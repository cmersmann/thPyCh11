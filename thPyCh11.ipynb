{
 "cells": [
  {
   "cell_type": "markdown",
   "metadata": {},
   "source": [
    "## Chapter 11 - Dictionaries"
   ]
  },
  {
   "cell_type": "markdown",
   "metadata": {},
   "source": [
    "Dictionaries are a built-in type in Python.  They are one approach to many very efficient processes.  \n",
    "\n",
    "-- Dictionaries are mappings.\n",
    "A dictionary is a like a list, but contains more flexibility.  Instead of associating one element with each non-negative integer index, it can associates each element with a general \"key.\"  \n",
    "\n",
    "These associations can be considered as key-value pairs, much like a word-definition pair (aka an item) in a language dictionary.  \n",
    "\n",
    "This association in math is called a mapping; a dictionary maps a key to a value.  A key should map to one and only one value.  A value could be mapped to by more than one key.  \n"
   ]
  },
  {
   "cell_type": "code",
   "execution_count": 1,
   "metadata": {},
   "outputs": [
    {
     "data": {
      "text/plain": [
       "{}"
      ]
     },
     "execution_count": 1,
     "metadata": {},
     "output_type": "execute_result"
    }
   ],
   "source": [
    "#Creating a dictionary\n",
    "#one way to create a dictionary is using the \n",
    "#dict() constructor. Our example will be \n",
    "#Spanish to English colors\n",
    "sp2eng = dict() #this creates an empty dictionary\n",
    "sp2eng\n",
    "#output is an empty set of {}'s, which denotes\n",
    "#a dictionary."
   ]
  },
  {
   "cell_type": "code",
   "execution_count": 2,
   "metadata": {},
   "outputs": [
    {
     "data": {
      "text/plain": [
       "{'rojo': 'red'}"
      ]
     },
     "execution_count": 2,
     "metadata": {},
     "output_type": "execute_result"
    }
   ],
   "source": [
    "#We can add a key value pair like so:\n",
    "sp2eng['rojo'] = 'red'\n",
    "sp2eng"
   ]
  },
  {
   "cell_type": "code",
   "execution_count": 11,
   "metadata": {},
   "outputs": [
    {
     "data": {
      "text/plain": [
       "{'rojo': 'red', 'azul': 'blue'}"
      ]
     },
     "execution_count": 11,
     "metadata": {},
     "output_type": "execute_result"
    }
   ],
   "source": [
    "#another way to create a dictionary is \n",
    "#directly using the squiggly brackets.\n",
    "sp2eng = {'rojo': 'red', 'azul': 'blue'}\n",
    "sp2eng"
   ]
  },
  {
   "cell_type": "code",
   "execution_count": 36,
   "metadata": {},
   "outputs": [
    {
     "data": {
      "text/plain": [
       "{'rojo': 'red', 'azul': 'blue', 'amarillo': 'yellow', 'verde': 'green'}"
      ]
     },
     "metadata": {},
     "output_type": "display_data"
    }
   ],
   "source": [
    "#Dictionaries are not ordered!\n",
    "sp2eng['amarillo'] = 'orange??'\n",
    "sp2eng['verde'] = 'green'\n",
    "sp2eng['amarillo'] = 'yellow'\n",
    "display(sp2eng)\n",
    "#The order may be not the same as how\n",
    "#you entered them.  \n",
    "#Dictionaries don't have a first, second, third\n",
    "#element, they just have items that are matched\n",
    "#keys to values."
   ]
  },
  {
   "cell_type": "code",
   "execution_count": 37,
   "metadata": {},
   "outputs": [
    {
     "data": {
      "text/plain": [
       "'red'"
      ]
     },
     "execution_count": 37,
     "metadata": {},
     "output_type": "execute_result"
    }
   ],
   "source": [
    "#You can look up/retrieve values\n",
    "#from their keys\n",
    "sp2eng['rojo']"
   ]
  },
  {
   "cell_type": "code",
   "execution_count": 38,
   "metadata": {},
   "outputs": [
    {
     "ename": "KeyError",
     "evalue": "'Rojooooooo'",
     "output_type": "error",
     "traceback": [
      "\u001b[0;31m---------------------------------------------------------------------------\u001b[0m",
      "\u001b[0;31mKeyError\u001b[0m                                  Traceback (most recent call last)",
      "\u001b[0;32m<ipython-input-38-8fd6fe5ea024>\u001b[0m in \u001b[0;36m<module>\u001b[0;34m\u001b[0m\n\u001b[1;32m      1\u001b[0m \u001b[0;31m#But if you look for a key that's not in the\u001b[0m\u001b[0;34m\u001b[0m\u001b[0;34m\u001b[0m\u001b[0;34m\u001b[0m\u001b[0m\n\u001b[1;32m      2\u001b[0m \u001b[0;31m#dictionary, you get an error\u001b[0m\u001b[0;34m\u001b[0m\u001b[0;34m\u001b[0m\u001b[0;34m\u001b[0m\u001b[0m\n\u001b[0;32m----> 3\u001b[0;31m \u001b[0msp2eng\u001b[0m\u001b[0;34m[\u001b[0m\u001b[0;34m'Rojooooooo'\u001b[0m\u001b[0;34m]\u001b[0m\u001b[0;34m\u001b[0m\u001b[0;34m\u001b[0m\u001b[0m\n\u001b[0m",
      "\u001b[0;31mKeyError\u001b[0m: 'Rojooooooo'"
     ]
    }
   ],
   "source": [
    "#But if you look for a key that's not in the \n",
    "#dictionary, you get an error\n",
    "sp2eng['Rojooooooo']"
   ]
  },
  {
   "cell_type": "code",
   "execution_count": 42,
   "metadata": {},
   "outputs": [
    {
     "data": {
      "text/plain": [
       "dict_keys(['rojo', 'azul', 'amarillo', 'verde'])"
      ]
     },
     "metadata": {},
     "output_type": "display_data"
    },
    {
     "data": {
      "text/plain": [
       "dict_values(['red', 'blue', 'yellow', 'green'])"
      ]
     },
     "metadata": {},
     "output_type": "display_data"
    },
    {
     "data": {
      "text/plain": [
       "dict_items([('rojo', 'red'), ('azul', 'blue'), ('amarillo', 'yellow'), ('verde', 'green')])"
      ]
     },
     "metadata": {},
     "output_type": "display_data"
    },
    {
     "data": {
      "text/plain": [
       "True"
      ]
     },
     "metadata": {},
     "output_type": "display_data"
    },
    {
     "data": {
      "text/plain": [
       "False"
      ]
     },
     "metadata": {},
     "output_type": "display_data"
    }
   ],
   "source": [
    "#Dictionaries can be converted to list-like\n",
    "#types, to use list functionality \n",
    "#you can retrieve the keys, the values,\n",
    "#and the items (pairs)\n",
    "display(sp2eng.keys())\n",
    "display(sp2eng.values())\n",
    "display(sp2eng.items())\n",
    "display('rojo' in sp2eng.keys())\n",
    "display('rojoooo' in sp2eng.keys())"
   ]
  },
  {
   "cell_type": "code",
   "execution_count": 6,
   "metadata": {},
   "outputs": [
    {
     "name": "stdout",
     "output_type": "stream",
     "text": [
      "loop time: 2.1616728489999844\n",
      "list time: 0.164864184999999\n",
      "dictionary time: 4.164800000694413e-05\n"
     ]
    }
   ],
   "source": [
    "#If there is no sorting, how does Python look\n",
    "#up entries to see if they're there or not?\n",
    "\n",
    "#Answer: the HASHTABLE / Hash function\n",
    "#Remarkable part: lookups on a Hash\n",
    "#take the same amount of time no matter\n",
    "#how many entries are in the data set.\n",
    "#This is different than a list, where \n",
    "#time increases with size of list.\n",
    "from time import perf_counter as time\n",
    "s = []\n",
    "d = {}\n",
    "ceiling = 10**7\n",
    "start=time()\n",
    "for i in range(ceiling):\n",
    "    s.append(i)\n",
    "    d[i] = i\n",
    "end = time()\n",
    "loop_time = end-start\n",
    "\n",
    "start = time()\n",
    "ceiling-1 in s\n",
    "end = time()\n",
    "list_time = end-start\n",
    "\n",
    "start = time()\n",
    "ceiling-1 in d.keys()\n",
    "end = time()\n",
    "dictionary_time = end-start\n",
    "\n",
    "print('loop time:', loop_time)\n",
    "print('list time:',list_time)\n",
    "print('dictionary time:',dictionary_time)"
   ]
  },
  {
   "cell_type": "markdown",
   "metadata": {},
   "source": [
    "# Applications of a Dictionary"
   ]
  },
  {
   "cell_type": "markdown",
   "metadata": {},
   "source": [
    "Suppose you're given a long string, and you want to compute the frequency of each letter in the string. There are a few approaches:  \n",
    "1) create 26 variables to store the counts of each letter, loop through the string and update each variable accordingly.  \n",
    "2) Create a list with 26 elements.  You could convert each number into an index, then increment the corresponding element on the list each time you see that letter in the string.  \n",
    "3) make a dictionary with keys as letters and counters as values.  Dictionaries are set up to do this very efficiently and easily."
   ]
  },
  {
   "cell_type": "code",
   "execution_count": 13,
   "metadata": {},
   "outputs": [
    {
     "data": {
      "text/plain": [
       "27"
      ]
     },
     "metadata": {},
     "output_type": "display_data"
    },
    {
     "data": {
      "text/plain": [
       "{'t': 2,\n",
       " 'h': 2,\n",
       " 'e': 3,\n",
       " ' ': 8,\n",
       " 'q': 1,\n",
       " 'u': 2,\n",
       " 'i': 1,\n",
       " 'c': 1,\n",
       " 'k': 1,\n",
       " 'b': 1,\n",
       " 'r': 2,\n",
       " 'o': 4,\n",
       " 'w': 1,\n",
       " 'n': 1,\n",
       " 'f': 1,\n",
       " 'x': 1,\n",
       " 'j': 1,\n",
       " 'm': 1,\n",
       " 'p': 1,\n",
       " 's': 1,\n",
       " 'v': 1,\n",
       " 'l': 1,\n",
       " 'a': 1,\n",
       " 'z': 1,\n",
       " 'y': 1,\n",
       " 'd': 1,\n",
       " 'g': 1}"
      ]
     },
     "execution_count": 13,
     "metadata": {},
     "output_type": "execute_result"
    }
   ],
   "source": [
    "#a histogram is a graphical/numerical collection of \n",
    "#counters/frequencies of events.\n",
    "def histogram(s):\n",
    "    d = dict()\n",
    "    for c in s:\n",
    "        if c not in d:\n",
    "            d[c] = 1\n",
    "        else:\n",
    "            d[c] += 1\n",
    "    return d\n",
    "\n",
    "x = histogram('the quick brown fox jumps over the lazy dog')\n",
    "display(len(x))\n",
    "x"
   ]
  },
  {
   "cell_type": "code",
   "execution_count": 18,
   "metadata": {},
   "outputs": [
    {
     "name": "stdout",
     "output_type": "stream",
     "text": [
      "d 1\n",
      "i 1\n",
      "n 1\n",
      "o 1\n",
      "s 1\n",
      "a 1\n",
      "u 1\n",
      "r 1\n"
     ]
    }
   ],
   "source": [
    "#using a dictionary in a for loop\n",
    "#Python implements some very convenient handling\n",
    "#for dictionary items with a for loop.\n",
    "def print_hist(h):\n",
    "    for c in h:\n",
    "        print(c, h[c])\n",
    "        \n",
    "print_hist(histogram('dinosaur'))\n",
    "#okay, that was nice...\n",
    "#but maybe we can even do better..."
   ]
  },
  {
   "cell_type": "code",
   "execution_count": 19,
   "metadata": {},
   "outputs": [
    {
     "name": "stdout",
     "output_type": "stream",
     "text": [
      "d 1\n",
      "i 1\n",
      "n 1\n",
      "o 1\n",
      "s 1\n",
      "a 1\n",
      "u 1\n",
      "r 1\n"
     ]
    }
   ],
   "source": [
    "def print_hist(h):\n",
    "    for key, value in h.items():\n",
    "        print(key, value)\n",
    "print_hist(histogram('dinosaur'))"
   ]
  },
  {
   "cell_type": "markdown",
   "metadata": {},
   "source": [
    "Reverse lookup  \n",
    "Given a dictionary d and a key k, you can easily lookup the corresponding value.  This is called a lookup.  \n",
    "But what if you have v and want any keys that map to v?  \n",
    "One simple way:"
   ]
  },
  {
   "cell_type": "code",
   "execution_count": 23,
   "metadata": {},
   "outputs": [
    {
     "data": {
      "text/plain": [
       "'b'"
      ]
     },
     "execution_count": 23,
     "metadata": {},
     "output_type": "execute_result"
    }
   ],
   "source": [
    "def reverse_lookup(d,v):\n",
    "    for k in d:\n",
    "        if d[k] == v:\n",
    "            return k\n",
    "    raise LookupError()\n",
    "    \n",
    "h = histogram('aacaabbd')\n",
    "reverse_lookup(h,2)"
   ]
  },
  {
   "cell_type": "code",
   "execution_count": 24,
   "metadata": {},
   "outputs": [
    {
     "ename": "LookupError",
     "evalue": "",
     "output_type": "error",
     "traceback": [
      "\u001b[0;31m---------------------------------------------------------------------------\u001b[0m",
      "\u001b[0;31mLookupError\u001b[0m                               Traceback (most recent call last)",
      "\u001b[0;32m<ipython-input-24-e5922c13304a>\u001b[0m in \u001b[0;36m<module>\u001b[0;34m\u001b[0m\n\u001b[1;32m      1\u001b[0m \u001b[0;31m#alternately,\u001b[0m\u001b[0;34m\u001b[0m\u001b[0;34m\u001b[0m\u001b[0;34m\u001b[0m\u001b[0m\n\u001b[0;32m----> 2\u001b[0;31m \u001b[0mreverse_lookup\u001b[0m\u001b[0;34m(\u001b[0m\u001b[0mh\u001b[0m\u001b[0;34m,\u001b[0m \u001b[0;36m6\u001b[0m\u001b[0;34m)\u001b[0m\u001b[0;34m\u001b[0m\u001b[0;34m\u001b[0m\u001b[0m\n\u001b[0m",
      "\u001b[0;32m<ipython-input-23-f2aabb6cab92>\u001b[0m in \u001b[0;36mreverse_lookup\u001b[0;34m(d, v)\u001b[0m\n\u001b[1;32m      3\u001b[0m         \u001b[0;32mif\u001b[0m \u001b[0md\u001b[0m\u001b[0;34m[\u001b[0m\u001b[0mk\u001b[0m\u001b[0;34m]\u001b[0m \u001b[0;34m==\u001b[0m \u001b[0mv\u001b[0m\u001b[0;34m:\u001b[0m\u001b[0;34m\u001b[0m\u001b[0;34m\u001b[0m\u001b[0m\n\u001b[1;32m      4\u001b[0m             \u001b[0;32mreturn\u001b[0m \u001b[0mk\u001b[0m\u001b[0;34m\u001b[0m\u001b[0;34m\u001b[0m\u001b[0m\n\u001b[0;32m----> 5\u001b[0;31m     \u001b[0;32mraise\u001b[0m \u001b[0mLookupError\u001b[0m\u001b[0;34m(\u001b[0m\u001b[0;34m)\u001b[0m\u001b[0;34m\u001b[0m\u001b[0;34m\u001b[0m\u001b[0m\n\u001b[0m\u001b[1;32m      6\u001b[0m \u001b[0;34m\u001b[0m\u001b[0m\n\u001b[1;32m      7\u001b[0m \u001b[0mh\u001b[0m \u001b[0;34m=\u001b[0m \u001b[0mhistogram\u001b[0m\u001b[0;34m(\u001b[0m\u001b[0;34m'aacaabbd'\u001b[0m\u001b[0;34m)\u001b[0m\u001b[0;34m\u001b[0m\u001b[0;34m\u001b[0m\u001b[0m\n",
      "\u001b[0;31mLookupError\u001b[0m: "
     ]
    }
   ],
   "source": [
    "#alternately, \n",
    "reverse_lookup(h, 6)"
   ]
  },
  {
   "cell_type": "markdown",
   "metadata": {},
   "source": [
    "# Dictionaries and lists.\n",
    " You can have lists as the values of a dictionary, but not as the keys.  Lists in Python are unhashable.  For example:"
   ]
  },
  {
   "cell_type": "code",
   "execution_count": 25,
   "metadata": {},
   "outputs": [
    {
     "ename": "TypeError",
     "evalue": "unhashable type: 'list'",
     "output_type": "error",
     "traceback": [
      "\u001b[0;31m---------------------------------------------------------------------------\u001b[0m",
      "\u001b[0;31mTypeError\u001b[0m                                 Traceback (most recent call last)",
      "\u001b[0;32m<ipython-input-25-83610ee20b20>\u001b[0m in \u001b[0;36m<module>\u001b[0;34m\u001b[0m\n\u001b[1;32m      2\u001b[0m \u001b[0md\u001b[0m \u001b[0;34m=\u001b[0m \u001b[0;34m{\u001b[0m\u001b[0;34m}\u001b[0m\u001b[0;34m\u001b[0m\u001b[0;34m\u001b[0m\u001b[0m\n\u001b[1;32m      3\u001b[0m \u001b[0md\u001b[0m\u001b[0;34m[\u001b[0m\u001b[0;34m'a'\u001b[0m\u001b[0;34m]\u001b[0m \u001b[0;34m=\u001b[0m \u001b[0mt\u001b[0m \u001b[0;31m#works okay.\u001b[0m\u001b[0;34m\u001b[0m\u001b[0;34m\u001b[0m\u001b[0m\n\u001b[0;32m----> 4\u001b[0;31m \u001b[0md\u001b[0m\u001b[0;34m[\u001b[0m\u001b[0mt\u001b[0m\u001b[0;34m]\u001b[0m \u001b[0;34m=\u001b[0m \u001b[0;34m'a'\u001b[0m \u001b[0;31m#doesn't work\u001b[0m\u001b[0;34m\u001b[0m\u001b[0;34m\u001b[0m\u001b[0m\n\u001b[0m",
      "\u001b[0;31mTypeError\u001b[0m: unhashable type: 'list'"
     ]
    }
   ],
   "source": [
    "t = [1,2]\n",
    "d = {}\n",
    "d['a'] = t #works okay.\n",
    "d[t] = 'a' #doesn't work"
   ]
  },
  {
   "cell_type": "markdown",
   "metadata": {},
   "source": [
    "Then what does it mean to be hashable/unhashable?  What's a hash?  \n",
    "A hash is a function that takes a value and returns an integer.  Dictionaries use these integers called hash values to store and lookup key-value pairs.  \n",
    "Works fine if the keys are immutable, but harder if the keys are mutable like lists.  \n",
    "When you create a key-value pair map in a Python dictionary, Python hashes the key and stores it in the corresponding integer location in memory.  \n",
    "It's for this reason that lookups are so fast - if you look up a key value, Python hashes it and instantly knows where to look in memory - if there's a value there, it returns it, if there isn't a value there, it knows the key doesn't exist in the dictionary."
   ]
  },
  {
   "cell_type": "markdown",
   "metadata": {},
   "source": [
    "# Other uses for Dictionaries:  Memoing"
   ]
  },
  {
   "cell_type": "markdown",
   "metadata": {},
   "source": [
    "Remember the fibonacci sequence code we had which was recursive?  It took a long time to run to find high-value terms of fibonacci sequence because it re-calculated terms inefficiently.  \n",
    "But, using dictionaries to record calculated fibonacci sequence values, we can improve the run-time substantially!"
   ]
  },
  {
   "cell_type": "code",
   "execution_count": 7,
   "metadata": {},
   "outputs": [
    {
     "data": {
      "text/plain": [
       "14930352"
      ]
     },
     "execution_count": 7,
     "metadata": {},
     "output_type": "execute_result"
    }
   ],
   "source": [
    "known = {0:0, 1:1}\n",
    "\n",
    "def fibonacci(n):\n",
    "    if n in known:\n",
    "        return known[n]\n",
    "\n",
    "    new = fibonacci(n-1) + fibonacci(n-2)\n",
    "    known[n] = new\n",
    "    return new\n",
    "\n",
    "fibonacci(36)"
   ]
  },
  {
   "cell_type": "code",
   "execution_count": 8,
   "metadata": {},
   "outputs": [
    {
     "data": {
      "text/plain": [
       "14930352"
      ]
     },
     "execution_count": 8,
     "metadata": {},
     "output_type": "execute_result"
    }
   ],
   "source": [
    "#Compare with the original code from chapter 6.\n",
    "def fibonacci(n):\n",
    "    if n == 0:\n",
    "        return 0\n",
    "    elif  n == 1:\n",
    "        return 1\n",
    "    else:\n",
    "        return fibonacci(n-1) + fibonacci(n-2)\n",
    "fibonacci(36) "
   ]
  },
  {
   "cell_type": "markdown",
   "metadata": {},
   "source": [
    "# Global Variables  \n",
    "Okay, that's all neat.  Now for a quick foray into a question I know some of you have asked before, about scope of variables in and out of functions (and will be relevant also in/out of objects).\n",
    "\n",
    "Note that the \"known\" variable above exists outside of the function.  This was necessary to have access to it in each and every instance of the function call.  (It could have been passed back and forth along with each call, but that is more complicated than just having it global).  \n",
    "\n",
    "There are a few subtleties in global variable usage.  \n"
   ]
  },
  {
   "cell_type": "code",
   "execution_count": 10,
   "metadata": {},
   "outputs": [
    {
     "name": "stdout",
     "output_type": "stream",
     "text": [
      "Running ex1\n"
     ]
    }
   ],
   "source": [
    "#One use is to make a boolean flag for verbose\n",
    "#outputs.\n",
    "\n",
    "verbose = True\n",
    "def ex1():\n",
    "    if verbose:\n",
    "        print('Running ex1')\n",
    "ex1()"
   ]
  },
  {
   "cell_type": "code",
   "execution_count": 11,
   "metadata": {},
   "outputs": [
    {
     "data": {
      "text/plain": [
       "False"
      ]
     },
     "execution_count": 11,
     "metadata": {},
     "output_type": "execute_result"
    }
   ],
   "source": [
    "#But if you try to reassign a global, \n",
    "#you might be surprised.\n",
    "new_bool = False\n",
    "def ex2():\n",
    "    new_bool = True #need to make a change here\n",
    "ex2()\n",
    "new_bool"
   ]
  },
  {
   "cell_type": "code",
   "execution_count": 14,
   "metadata": {},
   "outputs": [
    {
     "data": {
      "text/plain": [
       "True"
      ]
     },
     "execution_count": 14,
     "metadata": {},
     "output_type": "execute_result"
    }
   ],
   "source": [
    "#You can see that global new_bool didn't change.  \n",
    "#In the function, it creates a new local variable\n",
    "#called new_bool and sets -that- to True.\n",
    "#So how can we reassign the global?\n",
    "new_bool = False\n",
    "def ex2():\n",
    "    global new_bool #This line makes it work!\n",
    "    new_bool = True #need to make a change here\n",
    "ex2()\n",
    "new_bool\n",
    "\n",
    "#NB: We got around it with \"known\" because we \n",
    "#aren't reassigning, we are using one of its\n",
    "#built in abilities, making a key-value pair\n",
    "#i.e. known[n] = new\n",
    "#So, you can add/remove/replace elements of a global\n",
    "#list or dictionary without this step,\n",
    "#But if you want to reassign the variable,\n",
    "#you have to declare it global like this."
   ]
  },
  {
   "cell_type": "markdown",
   "metadata": {},
   "source": [
    "Global handling is a little clunky and handled different in every language.  But in Python, if you stick to the approach above, you should be okay."
   ]
  },
  {
   "cell_type": "markdown",
   "metadata": {},
   "source": [
    "## Exercises!"
   ]
  },
  {
   "cell_type": "raw",
   "metadata": {},
   "source": [
    "Exercise 1  \n",
    "Write a function that reads the words in words.txt and stores them as keys in a dictionary. It doesn’t matter what the values are. Then you can use the in operator as a fast way to check whether a string is in the dictionary.\n",
    "If you did Exercise 10 in Chapter 10, you can compare the speed of this implementation with the list in operator and the bisection search."
   ]
  },
  {
   "cell_type": "code",
   "execution_count": 17,
   "metadata": {},
   "outputs": [
    {
     "name": "stdout",
     "output_type": "stream",
     "text": [
      "3.1948089599609375e-05 5.1021575927734375e-05\n"
     ]
    }
   ],
   "source": [
    "#To get you started:\n",
    "import time\n",
    "def make_word_dict():\n",
    "    \"\"\"Reads lines from a file and builds a dictionary\"\"\"\n",
    "    t = {}\n",
    "    fin = open('words.txt')\n",
    "    for line in fin:\n",
    "        word = line.strip()\n",
    "        ## ENTER DICTIONARY ENTRY LINE HERE\n",
    "    return t\n",
    "\n",
    "d = make_word_dict()\n",
    "t1 = time.time()\n",
    "'aardvark' in d\n",
    "t2 = time.time()\n",
    "'zebra' in d\n",
    "t3 = time.time()\n",
    "print(t3 - t2, t2 - t1)"
   ]
  },
  {
   "cell_type": "raw",
   "metadata": {},
   "source": [
    "Exercise 2  \n",
    "Read the documentation of the dictionary method setdefault and use it to write a more concise version of invert_dict. Solution: http://thinkpython2.com/code/invert_dict.py."
   ]
  },
  {
   "cell_type": "code",
   "execution_count": null,
   "metadata": {},
   "outputs": [],
   "source": []
  },
  {
   "cell_type": "raw",
   "metadata": {},
   "source": [
    "Exercise 3   Memoize the Ackermann function from Exercise 2 and see if memoization makes it possible to evaluate the function with bigger arguments. Hint: no. Solution: http://thinkpython2.com/code/ackermann_memo.py."
   ]
  },
  {
   "cell_type": "code",
   "execution_count": null,
   "metadata": {},
   "outputs": [],
   "source": []
  },
  {
   "cell_type": "raw",
   "metadata": {},
   "source": [
    "Exercise 4  \n",
    "If you did Exercise 7 in chapter 10, you already have a function named has_duplicates that takes a list as a parameter and returns True if there is any object that appears more than once in the list.\n",
    "Use a dictionary to write a faster, simpler version of has_duplicates. Solution: http://thinkpython2.com/code/has_duplicates.py."
   ]
  },
  {
   "cell_type": "code",
   "execution_count": null,
   "metadata": {},
   "outputs": [],
   "source": []
  },
  {
   "cell_type": "raw",
   "metadata": {},
   "source": [
    "Exercise 5  \n",
    "Two words are “rotate pairs” if you can rotate one of them and get the other (see rotate_word in Exercise 5 of Chapter 8).\n",
    "Write a program that reads a wordlist and finds all the rotate pairs. Solution: http://thinkpython2.com/code/rotate_pairs.py."
   ]
  },
  {
   "cell_type": "code",
   "execution_count": null,
   "metadata": {},
   "outputs": [],
   "source": []
  },
  {
   "cell_type": "raw",
   "metadata": {},
   "source": [
    "Exercise 6  \n",
    "Here’s another Puzzler from Car Talk (http://www.cartalk.com/content/puzzlers):\n",
    "This was sent in by a fellow named Dan O’Leary. He came upon a common one-syllable, five-letter word recently that has the following unique property. When you remove the first letter, the remaining letters form a homophone of the original word, that is a word that sounds exactly the same. Replace the first letter, that is, put it back and remove the second letter and the result is yet another homophone of the original word. And the question is, what’s the word?\n",
    "Now I’m going to give you an example that doesn’t work. Let’s look at the five-letter word, ‘wrack.’ W-R-A-C-K, you know like to ‘wrack with pain.’ If I remove the first letter, I am left with a four-letter word, ’R-A-C-K.’ As in, ‘Holy cow, did you see the rack on that buck! It must have been a nine-pointer!’ It’s a perfect homophone. If you put the ‘w’ back, and remove the ‘r,’ instead, you’re left with the word, ‘wack,’ which is a real word, it’s just not a homophone of the other two words.\n",
    "But there is, however, at least one word that Dan and we know of, which will yield two homophones if you remove either of the first two letters to make two, new four-letter words. The question is, what’s the word?\n",
    "\n",
    "You can use the dictionary from Exercise 1 to check whether a string is in the word list.\n",
    "\n",
    "To check whether two words are homophones, you can use the CMU Pronouncing Dictionary. You can download it from http://www.speech.cs.cmu.edu/cgi-bin/cmudict or from http://thinkpython2.com/code/c06d and you can also download http://thinkpython2.com/code/pronounce.py, which provides a function named read_dictionary that reads the pronouncing dictionary and returns a Python dictionary that maps from each word to a string that describes its primary pronunciation.\n",
    "\n",
    "Write a program that lists all the words that solve the Puzzler. Solution: http://thinkpython2.com/code/homophone.py."
   ]
  },
  {
   "cell_type": "code",
   "execution_count": null,
   "metadata": {},
   "outputs": [],
   "source": []
  }
 ],
 "metadata": {
  "kernelspec": {
   "display_name": "Python 3",
   "language": "python",
   "name": "python3"
  },
  "language_info": {
   "codemirror_mode": {
    "name": "ipython",
    "version": 3
   },
   "file_extension": ".py",
   "mimetype": "text/x-python",
   "name": "python",
   "nbconvert_exporter": "python",
   "pygments_lexer": "ipython3",
   "version": "3.8.3"
  }
 },
 "nbformat": 4,
 "nbformat_minor": 4
}
